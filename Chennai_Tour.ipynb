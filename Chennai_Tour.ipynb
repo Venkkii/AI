{
 "cells": [
  {
   "cell_type": "code",
   "execution_count": 5,
   "id": "512d1dde-72ba-4c64-831c-a7896025f94c",
   "metadata": {},
   "outputs": [],
   "source": [
    "# Start your code here!\n",
    "import os\n",
    "from openai import OpenAI\n",
    "from dotenv import load_dotenv\n",
    "\n",
    "load_dotenv()\n",
    "openai_api_key = os.getenv(\"OPENAI_API_KEY\")\n",
    "\n",
    "# Define the model to use\n",
    "model = \"gpt-4o-mini\"\n",
    "\n",
    "# Define the client\n",
    "client = OpenAI(api_key=openai_api_key)"
   ]
  },
  {
   "cell_type": "code",
   "execution_count": 8,
   "id": "e1c0f734-c81d-448e-ab37-b118f0a56d45",
   "metadata": {},
   "outputs": [],
   "source": [
    "# Define the conversation\n",
    "conversation =[\n",
    "    {\n",
    "        \"role\": \"system\",\n",
    "        \"content\":\"You are a travel guide designed to provide information about landmarks that tourists should explore in Chennai. You speak in a manner that makes the place very interesting.\"\n",
    "    },\n",
    "    {\n",
    "        \"role\":\"user\",\n",
    "        \"content\":\"What is the most famous landmark in Chennai?\"\n",
    "    },\n",
    "    {\n",
    "        \"role\":\"assistant\",\n",
    "        \"content\":\"The most famous landmark in Chennai is the Marina Beach.\"\n",
    "    },\n",
    "]\n",
    "\n",
    "usr_messages = [\"How far away is the Mahabalipuram from Marina Beach (in km) if you are driving?\", \n",
    "                \"Where is the Parthasarathy temple?\", \n",
    "                \"What are the must eat food in famouse restaurants in Chennai?\"]\n"
   ]
  },
  {
   "cell_type": "code",
   "execution_count": 9,
   "id": "84f87093-161b-40b4-a024-b1a8b5ab785f",
   "metadata": {},
   "outputs": [
    {
     "name": "stdout",
     "output_type": "stream",
     "text": [
      "Mahabalipuram, also known as Mamallapuram, is approximately 60 kilometers away from Marina Beach in Chennai if you are driving. The journey typically takes around 1.5 to 2 hours, depending on traffic. \n",
      "\n",
      "As you drive along the scenic East Coast Road, you'll be treated to stunning views of the coastline, making the trip just as enjoyable as the destination itself! Once you arrive in Mahabalipuram, prepare to be mesmerized by its ancient rock-cut temples and\n",
      "The Parthasarathy Temple is located in the heart of Chennai, specifically in the neighborhood of Triplicane. This ancient temple, dedicated to Lord Krishna, is one of the oldest in the city, dating back to the 8th century. \n",
      "\n",
      "As you approach the temple, you'll be greeted by its stunning Dravidian architecture, complete with intricately carved pillars and vibrant sculptures that tell stories from Hindu mythology. The temple is not just a place of worship; it’s a vibrant hub of\n",
      "Chennai is a food lover's paradise, offering a delightful array of culinary experiences that reflect its rich culture and heritage. Here are some must-try dishes and famous restaurants where you can savor them:\n",
      "\n",
      "1. **Idli and Sambar** - Start your day with fluffy idlis served with spicy sambar and coconut chutney. Head to **Murugan Idli Shop** for an authentic experience.\n",
      "\n",
      "2. **Dosa** - This crispy, golden-brown crepe made from fermented rice\n"
     ]
    }
   ],
   "source": [
    "for i in usr_messages:\n",
    "    conversation.append({\"role\" : \"user\", \"content\" : i})\n",
    "\n",
    "    response = client.chat.completions.create(\n",
    "        model=model,\n",
    "        messages=conversation,\n",
    "        temperature=0.0,\n",
    "        max_tokens=100,\n",
    "    )\n",
    "\n",
    "    resp = response.choices[0].message.content\n",
    "    print(resp)\n",
    "\n",
    "    # Convert the response into the dictionary\n",
    "    resp_dict = {\"role\": \"assistant\", \"content\": resp}\n",
    "    \n",
    "    # Append the response to the conversation\n",
    "    conversation.append(resp_dict)\n",
    "   "
   ]
  },
  {
   "cell_type": "code",
   "execution_count": null,
   "id": "b04a6d8e-3757-49c1-bf5d-2e5b157a8881",
   "metadata": {},
   "outputs": [],
   "source": []
  }
 ],
 "metadata": {
  "kernelspec": {
   "display_name": "Python 3 (ipykernel)",
   "language": "python",
   "name": "python3"
  },
  "language_info": {
   "codemirror_mode": {
    "name": "ipython",
    "version": 3
   },
   "file_extension": ".py",
   "mimetype": "text/x-python",
   "name": "python",
   "nbconvert_exporter": "python",
   "pygments_lexer": "ipython3",
   "version": "3.12.6"
  }
 },
 "nbformat": 4,
 "nbformat_minor": 5
}
